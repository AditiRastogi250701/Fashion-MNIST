{
  "nbformat": 4,
  "nbformat_minor": 0,
  "metadata": {
    "colab": {
      "name": "Fashion MNIST.ipynb",
      "provenance": [],
      "authorship_tag": "ABX9TyPEMiQTLDNQ/QoDPQjHPWVR",
      "include_colab_link": true
    },
    "kernelspec": {
      "name": "python3",
      "display_name": "Python 3"
    },
    "language_info": {
      "name": "python"
    }
  },
  "cells": [
    {
      "cell_type": "markdown",
      "metadata": {
        "id": "view-in-github",
        "colab_type": "text"
      },
      "source": [
        "<a href=\"https://colab.research.google.com/github/AditiRastogi250701/Fashion-MNIST/blob/main/Fashion_MNIST.ipynb\" target=\"_parent\"><img src=\"https://colab.research.google.com/assets/colab-badge.svg\" alt=\"Open In Colab\"/></a>"
      ]
    },
    {
      "cell_type": "code",
      "execution_count": 1,
      "metadata": {
        "id": "gCQB40cE0WNp"
      },
      "outputs": [],
      "source": [
        "#importing\n",
        "\n",
        "import sys\n",
        "import os\n",
        "import numpy as np\n",
        "import pandas as pd\n",
        "import matplotlib.pyplot as plt\n",
        "import tensorflow as tf\n",
        "from tensorflow import keras"
      ]
    },
    {
      "cell_type": "code",
      "source": [
        "#Loading the dataset\n",
        "dataset = keras.datasets.fashion_mnist"
      ],
      "metadata": {
        "id": "LS7qS7Bv0gPw"
      },
      "execution_count": 2,
      "outputs": []
    },
    {
      "cell_type": "code",
      "source": [
        "#class labels\n",
        "class_names = ['T-shirt/top', 'Trouser', 'Pullover', 'Dress', 'Coat', 'Sandal', 'Shirt', 'Sneaker', \n",
        "               'Bag', 'Ankle boot']"
      ],
      "metadata": {
        "id": "jGDs7BFu0gSX"
      },
      "execution_count": 3,
      "outputs": []
    },
    {
      "cell_type": "code",
      "source": [
        "#splitting the dataset\n",
        "\n",
        "(train_images, train_labels), (test_images, test_labels) = dataset.load_data()"
      ],
      "metadata": {
        "colab": {
          "base_uri": "https://localhost:8080/"
        },
        "id": "FLWJHYyD0gVC",
        "outputId": "9d4f96c6-67c8-45ee-f653-e02df6bc8995"
      },
      "execution_count": 4,
      "outputs": [
        {
          "output_type": "stream",
          "name": "stdout",
          "text": [
            "Downloading data from https://storage.googleapis.com/tensorflow/tf-keras-datasets/train-labels-idx1-ubyte.gz\n",
            "32768/29515 [=================================] - 0s 0us/step\n",
            "40960/29515 [=========================================] - 0s 0us/step\n",
            "Downloading data from https://storage.googleapis.com/tensorflow/tf-keras-datasets/train-images-idx3-ubyte.gz\n",
            "26427392/26421880 [==============================] - 0s 0us/step\n",
            "26435584/26421880 [==============================] - 0s 0us/step\n",
            "Downloading data from https://storage.googleapis.com/tensorflow/tf-keras-datasets/t10k-labels-idx1-ubyte.gz\n",
            "16384/5148 [===============================================================================================] - 0s 0us/step\n",
            "Downloading data from https://storage.googleapis.com/tensorflow/tf-keras-datasets/t10k-images-idx3-ubyte.gz\n",
            "4423680/4422102 [==============================] - 0s 0us/step\n",
            "4431872/4422102 [==============================] - 0s 0us/step\n"
          ]
        }
      ]
    },
    {
      "cell_type": "code",
      "source": [
        "train_images[0]"
      ],
      "metadata": {
        "colab": {
          "base_uri": "https://localhost:8080/"
        },
        "id": "HpduQkEO0gXh",
        "outputId": "d0a28387-593a-4f68-993d-99d1d7ac0ad3"
      },
      "execution_count": 5,
      "outputs": [
        {
          "output_type": "execute_result",
          "data": {
            "text/plain": [
              "array([[  0,   0,   0,   0,   0,   0,   0,   0,   0,   0,   0,   0,   0,\n",
              "          0,   0,   0,   0,   0,   0,   0,   0,   0,   0,   0,   0,   0,\n",
              "          0,   0],\n",
              "       [  0,   0,   0,   0,   0,   0,   0,   0,   0,   0,   0,   0,   0,\n",
              "          0,   0,   0,   0,   0,   0,   0,   0,   0,   0,   0,   0,   0,\n",
              "          0,   0],\n",
              "       [  0,   0,   0,   0,   0,   0,   0,   0,   0,   0,   0,   0,   0,\n",
              "          0,   0,   0,   0,   0,   0,   0,   0,   0,   0,   0,   0,   0,\n",
              "          0,   0],\n",
              "       [  0,   0,   0,   0,   0,   0,   0,   0,   0,   0,   0,   0,   1,\n",
              "          0,   0,  13,  73,   0,   0,   1,   4,   0,   0,   0,   0,   1,\n",
              "          1,   0],\n",
              "       [  0,   0,   0,   0,   0,   0,   0,   0,   0,   0,   0,   0,   3,\n",
              "          0,  36, 136, 127,  62,  54,   0,   0,   0,   1,   3,   4,   0,\n",
              "          0,   3],\n",
              "       [  0,   0,   0,   0,   0,   0,   0,   0,   0,   0,   0,   0,   6,\n",
              "          0, 102, 204, 176, 134, 144, 123,  23,   0,   0,   0,   0,  12,\n",
              "         10,   0],\n",
              "       [  0,   0,   0,   0,   0,   0,   0,   0,   0,   0,   0,   0,   0,\n",
              "          0, 155, 236, 207, 178, 107, 156, 161, 109,  64,  23,  77, 130,\n",
              "         72,  15],\n",
              "       [  0,   0,   0,   0,   0,   0,   0,   0,   0,   0,   0,   1,   0,\n",
              "         69, 207, 223, 218, 216, 216, 163, 127, 121, 122, 146, 141,  88,\n",
              "        172,  66],\n",
              "       [  0,   0,   0,   0,   0,   0,   0,   0,   0,   1,   1,   1,   0,\n",
              "        200, 232, 232, 233, 229, 223, 223, 215, 213, 164, 127, 123, 196,\n",
              "        229,   0],\n",
              "       [  0,   0,   0,   0,   0,   0,   0,   0,   0,   0,   0,   0,   0,\n",
              "        183, 225, 216, 223, 228, 235, 227, 224, 222, 224, 221, 223, 245,\n",
              "        173,   0],\n",
              "       [  0,   0,   0,   0,   0,   0,   0,   0,   0,   0,   0,   0,   0,\n",
              "        193, 228, 218, 213, 198, 180, 212, 210, 211, 213, 223, 220, 243,\n",
              "        202,   0],\n",
              "       [  0,   0,   0,   0,   0,   0,   0,   0,   0,   1,   3,   0,  12,\n",
              "        219, 220, 212, 218, 192, 169, 227, 208, 218, 224, 212, 226, 197,\n",
              "        209,  52],\n",
              "       [  0,   0,   0,   0,   0,   0,   0,   0,   0,   0,   6,   0,  99,\n",
              "        244, 222, 220, 218, 203, 198, 221, 215, 213, 222, 220, 245, 119,\n",
              "        167,  56],\n",
              "       [  0,   0,   0,   0,   0,   0,   0,   0,   0,   4,   0,   0,  55,\n",
              "        236, 228, 230, 228, 240, 232, 213, 218, 223, 234, 217, 217, 209,\n",
              "         92,   0],\n",
              "       [  0,   0,   1,   4,   6,   7,   2,   0,   0,   0,   0,   0, 237,\n",
              "        226, 217, 223, 222, 219, 222, 221, 216, 223, 229, 215, 218, 255,\n",
              "         77,   0],\n",
              "       [  0,   3,   0,   0,   0,   0,   0,   0,   0,  62, 145, 204, 228,\n",
              "        207, 213, 221, 218, 208, 211, 218, 224, 223, 219, 215, 224, 244,\n",
              "        159,   0],\n",
              "       [  0,   0,   0,   0,  18,  44,  82, 107, 189, 228, 220, 222, 217,\n",
              "        226, 200, 205, 211, 230, 224, 234, 176, 188, 250, 248, 233, 238,\n",
              "        215,   0],\n",
              "       [  0,  57, 187, 208, 224, 221, 224, 208, 204, 214, 208, 209, 200,\n",
              "        159, 245, 193, 206, 223, 255, 255, 221, 234, 221, 211, 220, 232,\n",
              "        246,   0],\n",
              "       [  3, 202, 228, 224, 221, 211, 211, 214, 205, 205, 205, 220, 240,\n",
              "         80, 150, 255, 229, 221, 188, 154, 191, 210, 204, 209, 222, 228,\n",
              "        225,   0],\n",
              "       [ 98, 233, 198, 210, 222, 229, 229, 234, 249, 220, 194, 215, 217,\n",
              "        241,  65,  73, 106, 117, 168, 219, 221, 215, 217, 223, 223, 224,\n",
              "        229,  29],\n",
              "       [ 75, 204, 212, 204, 193, 205, 211, 225, 216, 185, 197, 206, 198,\n",
              "        213, 240, 195, 227, 245, 239, 223, 218, 212, 209, 222, 220, 221,\n",
              "        230,  67],\n",
              "       [ 48, 203, 183, 194, 213, 197, 185, 190, 194, 192, 202, 214, 219,\n",
              "        221, 220, 236, 225, 216, 199, 206, 186, 181, 177, 172, 181, 205,\n",
              "        206, 115],\n",
              "       [  0, 122, 219, 193, 179, 171, 183, 196, 204, 210, 213, 207, 211,\n",
              "        210, 200, 196, 194, 191, 195, 191, 198, 192, 176, 156, 167, 177,\n",
              "        210,  92],\n",
              "       [  0,   0,  74, 189, 212, 191, 175, 172, 175, 181, 185, 188, 189,\n",
              "        188, 193, 198, 204, 209, 210, 210, 211, 188, 188, 194, 192, 216,\n",
              "        170,   0],\n",
              "       [  2,   0,   0,   0,  66, 200, 222, 237, 239, 242, 246, 243, 244,\n",
              "        221, 220, 193, 191, 179, 182, 182, 181, 176, 166, 168,  99,  58,\n",
              "          0,   0],\n",
              "       [  0,   0,   0,   0,   0,   0,   0,  40,  61,  44,  72,  41,  35,\n",
              "          0,   0,   0,   0,   0,   0,   0,   0,   0,   0,   0,   0,   0,\n",
              "          0,   0],\n",
              "       [  0,   0,   0,   0,   0,   0,   0,   0,   0,   0,   0,   0,   0,\n",
              "          0,   0,   0,   0,   0,   0,   0,   0,   0,   0,   0,   0,   0,\n",
              "          0,   0],\n",
              "       [  0,   0,   0,   0,   0,   0,   0,   0,   0,   0,   0,   0,   0,\n",
              "          0,   0,   0,   0,   0,   0,   0,   0,   0,   0,   0,   0,   0,\n",
              "          0,   0]], dtype=uint8)"
            ]
          },
          "metadata": {},
          "execution_count": 5
        }
      ]
    },
    {
      "cell_type": "code",
      "source": [
        "train_images[0,2,2]"
      ],
      "metadata": {
        "colab": {
          "base_uri": "https://localhost:8080/"
        },
        "id": "k6olrzea0gaJ",
        "outputId": "80b01e01-ec82-4881-8c75-5d6867f676ae"
      },
      "execution_count": 6,
      "outputs": [
        {
          "output_type": "execute_result",
          "data": {
            "text/plain": [
              "0"
            ]
          },
          "metadata": {},
          "execution_count": 6
        }
      ]
    },
    {
      "cell_type": "code",
      "source": [
        "train_labels.shape"
      ],
      "metadata": {
        "colab": {
          "base_uri": "https://localhost:8080/"
        },
        "id": "6_5xnEOr0gf7",
        "outputId": "6e0e1bea-aefe-47a5-8730-951106b440f2"
      },
      "execution_count": 7,
      "outputs": [
        {
          "output_type": "execute_result",
          "data": {
            "text/plain": [
              "(60000,)"
            ]
          },
          "metadata": {},
          "execution_count": 7
        }
      ]
    },
    {
      "cell_type": "code",
      "source": [
        "train_labels[:5]"
      ],
      "metadata": {
        "colab": {
          "base_uri": "https://localhost:8080/"
        },
        "id": "sfbv-mKQ0gls",
        "outputId": "fde1d52d-c628-4efb-ce08-7ad7d5865368"
      },
      "execution_count": 8,
      "outputs": [
        {
          "output_type": "execute_result",
          "data": {
            "text/plain": [
              "array([9, 0, 0, 3, 0], dtype=uint8)"
            ]
          },
          "metadata": {},
          "execution_count": 8
        }
      ]
    },
    {
      "cell_type": "code",
      "source": [
        "plt.subplot(1,10,1)\n",
        "for i in range(10):\n",
        "    plt.imshow(train_images[i])\n",
        "    plt.axis('off')\n",
        "    plt.title(class_names[train_labels[i]])\n",
        "    plt.show()"
      ],
      "metadata": {
        "colab": {
          "base_uri": "https://localhost:8080/",
          "height": 1000
        },
        "id": "nMtUAolx0gos",
        "outputId": "9a6eb368-9ad9-4d20-cc90-87510301a9f9"
      },
      "execution_count": 9,
      "outputs": [
        {
          "output_type": "display_data",
          "data": {
            "image/png": "[encoded data removed]",
            "text/plain": [
              "<Figure size 432x288 with 1 Axes>"
            ]
          },
          "metadata": {
            "needs_background": "light"
          }
        },
        {
          "output_type": "display_data",
          "data": {
            "image/png": "[encoded data removed]",
            "text/plain": [
              "<Figure size 432x288 with 1 Axes>"
            ]
          },
          "metadata": {
            "needs_background": "light"
          }
        },
        {
          "output_type": "display_data",
          "data": {
            "image/png": "[encoded data removed]",
            "text/plain": [
              "<Figure size 432x288 with 1 Axes>"
            ]
          },
          "metadata": {
            "needs_background": "light"
          }
        },
        {
          "output_type": "display_data",
          "data": {
            "image/png": "[encoded data removed]",
            "text/plain": [
              "<Figure size 432x288 with 1 Axes>"
            ]
          },
          "metadata": {
            "needs_background": "light"
          }
        },
        {
          "output_type": "display_data",
          "data": {
            "image/png": "[encoded data removed]",
            "text/plain": [
              "<Figure size 432x288 with 1 Axes>"
            ]
          },
          "metadata": {
            "needs_background": "light"
          }
        },
        {
          "output_type": "display_data",
          "data": {
            "image/png": "[encoded data removed]",
            "text/plain": [
              "<Figure size 432x288 with 1 Axes>"
            ]
          },
          "metadata": {
            "needs_background": "light"
          }
        },
        {
          "output_type": "display_data",
          "data": {
            "image/png": "[encoded data removed]",
            "text/plain": [
              "<Figure size 432x288 with 1 Axes>"
            ]
          },
          "metadata": {
            "needs_background": "light"
          }
        },
        {
          "output_type": "display_data",
          "data": {
            "image/png": "[encoded data removed]",
            "text/plain": [
              "<Figure size 432x288 with 1 Axes>"
            ]
          },
          "metadata": {
            "needs_background": "light"
          }
        },
        {
          "output_type": "display_data",
          "data": {
            "image/png": "[encoded data removed]",
            "text/plain": [
              "<Figure size 432x288 with 1 Axes>"
            ]
          },
          "metadata": {
            "needs_background": "light"
          }
        },
        {
          "output_type": "display_data",
          "data": {
            "image/png": "[encoded data removed]",
            "text/plain": [
              "<Figure size 432x288 with 1 Axes>"
            ]
          },
          "metadata": {
            "needs_background": "light"
          }
        }
      ]
    },
    {
      "cell_type": "markdown",
      "source": [
        "# **Data Pre-Processing**"
      ],
      "metadata": {
        "id": "XnLh1DAt1C0v"
      }
    },
    {
      "cell_type": "code",
      "source": [
        "np.isnan(train_labels)"
      ],
      "metadata": {
        "colab": {
          "base_uri": "https://localhost:8080/"
        },
        "id": "Rb_5P36I0grG",
        "outputId": "c94e227e-e278-493a-d4e1-ccaf8657fd66"
      },
      "execution_count": 10,
      "outputs": [
        {
          "output_type": "execute_result",
          "data": {
            "text/plain": [
              "array([False, False, False, ..., False, False, False])"
            ]
          },
          "metadata": {},
          "execution_count": 10
        }
      ]
    },
    {
      "cell_type": "code",
      "source": [
        "train_images, test_images = (train_images)/255.0, test_images/255.0"
      ],
      "metadata": {
        "id": "sHpEq6Rl0guH"
      },
      "execution_count": 11,
      "outputs": []
    },
    {
      "cell_type": "code",
      "source": [
        "train_images[0]"
      ],
      "metadata": {
        "colab": {
          "base_uri": "https://localhost:8080/"
        },
        "id": "jty75sR10gxk",
        "outputId": "a2802b73-a602-4ecc-84b8-b56f7a343f06"
      },
      "execution_count": 12,
      "outputs": [
        {
          "output_type": "execute_result",
          "data": {
            "text/plain": [
              "array([[0.        , 0.        , 0.        , 0.        , 0.        ,\n",
              "        0.        , 0.        , 0.        , 0.        , 0.        ,\n",
              "        0.        , 0.        , 0.        , 0.        , 0.        ,\n",
              "        0.        , 0.        , 0.        , 0.        , 0.        ,\n",
              "        0.        , 0.        , 0.        , 0.        , 0.        ,\n",
              "        0.        , 0.        , 0.        ],\n",
              "       [0.        , 0.        , 0.        , 0.        , 0.        ,\n",
              "        0.        , 0.        , 0.        , 0.        , 0.        ,\n",
              "        0.        , 0.        , 0.        , 0.        , 0.        ,\n",
              "        0.        , 0.        , 0.        , 0.        , 0.        ,\n",
              "        0.        , 0.        , 0.        , 0.        , 0.        ,\n",
              "        0.        , 0.        , 0.        ],\n",
              "       [0.        , 0.        , 0.        , 0.        , 0.        ,\n",
              "        0.        , 0.        , 0.        , 0.        , 0.        ,\n",
              "        0.        , 0.        , 0.        , 0.        , 0.        ,\n",
              "        0.        , 0.        , 0.        , 0.        , 0.        ,\n",
              "        0.        , 0.        , 0.        , 0.        , 0.        ,\n",
              "        0.        , 0.        , 0.        ],\n",
              "       [0.        , 0.        , 0.        , 0.        , 0.        ,\n",
              "        0.        , 0.        , 0.        , 0.        , 0.        ,\n",
              "        0.        , 0.        , 0.00392157, 0.        , 0.        ,\n",
              "        0.05098039, 0.28627451, 0.        , 0.        , 0.00392157,\n",
              "        0.01568627, 0.        , 0.        , 0.        , 0.        ,\n",
              "        0.00392157, 0.00392157, 0.        ],\n",
              "       [0.        , 0.        , 0.        , 0.        , 0.        ,\n",
              "        0.        , 0.        , 0.        , 0.        , 0.        ,\n",
              "        0.        , 0.        , 0.01176471, 0.        , 0.14117647,\n",
              "        0.53333333, 0.49803922, 0.24313725, 0.21176471, 0.        ,\n",
              "        0.        , 0.        , 0.00392157, 0.01176471, 0.01568627,\n",
              "        0.        , 0.        , 0.01176471],\n",
              "       [0.        , 0.        , 0.        , 0.        , 0.        ,\n",
              "        0.        , 0.        , 0.        , 0.        , 0.        ,\n",
              "        0.        , 0.        , 0.02352941, 0.        , 0.4       ,\n",
              "        0.8       , 0.69019608, 0.5254902 , 0.56470588, 0.48235294,\n",
              "        0.09019608, 0.        , 0.        , 0.        , 0.        ,\n",
              "        0.04705882, 0.03921569, 0.        ],\n",
              "       [0.        , 0.        , 0.        , 0.        , 0.        ,\n",
              "        0.        , 0.        , 0.        , 0.        , 0.        ,\n",
              "        0.        , 0.        , 0.        , 0.        , 0.60784314,\n",
              "        0.9254902 , 0.81176471, 0.69803922, 0.41960784, 0.61176471,\n",
              "        0.63137255, 0.42745098, 0.25098039, 0.09019608, 0.30196078,\n",
              "        0.50980392, 0.28235294, 0.05882353],\n",
              "       [0.        , 0.        , 0.        , 0.        , 0.        ,\n",
              "        0.        , 0.        , 0.        , 0.        , 0.        ,\n",
              "        0.        , 0.00392157, 0.        , 0.27058824, 0.81176471,\n",
              "        0.8745098 , 0.85490196, 0.84705882, 0.84705882, 0.63921569,\n",
              "        0.49803922, 0.4745098 , 0.47843137, 0.57254902, 0.55294118,\n",
              "        0.34509804, 0.6745098 , 0.25882353],\n",
              "       [0.        , 0.        , 0.        , 0.        , 0.        ,\n",
              "        0.        , 0.        , 0.        , 0.        , 0.00392157,\n",
              "        0.00392157, 0.00392157, 0.        , 0.78431373, 0.90980392,\n",
              "        0.90980392, 0.91372549, 0.89803922, 0.8745098 , 0.8745098 ,\n",
              "        0.84313725, 0.83529412, 0.64313725, 0.49803922, 0.48235294,\n",
              "        0.76862745, 0.89803922, 0.        ],\n",
              "       [0.        , 0.        , 0.        , 0.        , 0.        ,\n",
              "        0.        , 0.        , 0.        , 0.        , 0.        ,\n",
              "        0.        , 0.        , 0.        , 0.71764706, 0.88235294,\n",
              "        0.84705882, 0.8745098 , 0.89411765, 0.92156863, 0.89019608,\n",
              "        0.87843137, 0.87058824, 0.87843137, 0.86666667, 0.8745098 ,\n",
              "        0.96078431, 0.67843137, 0.        ],\n",
              "       [0.        , 0.        , 0.        , 0.        , 0.        ,\n",
              "        0.        , 0.        , 0.        , 0.        , 0.        ,\n",
              "        0.        , 0.        , 0.        , 0.75686275, 0.89411765,\n",
              "        0.85490196, 0.83529412, 0.77647059, 0.70588235, 0.83137255,\n",
              "        0.82352941, 0.82745098, 0.83529412, 0.8745098 , 0.8627451 ,\n",
              "        0.95294118, 0.79215686, 0.        ],\n",
              "       [0.        , 0.        , 0.        , 0.        , 0.        ,\n",
              "        0.        , 0.        , 0.        , 0.        , 0.00392157,\n",
              "        0.01176471, 0.        , 0.04705882, 0.85882353, 0.8627451 ,\n",
              "        0.83137255, 0.85490196, 0.75294118, 0.6627451 , 0.89019608,\n",
              "        0.81568627, 0.85490196, 0.87843137, 0.83137255, 0.88627451,\n",
              "        0.77254902, 0.81960784, 0.20392157],\n",
              "       [0.        , 0.        , 0.        , 0.        , 0.        ,\n",
              "        0.        , 0.        , 0.        , 0.        , 0.        ,\n",
              "        0.02352941, 0.        , 0.38823529, 0.95686275, 0.87058824,\n",
              "        0.8627451 , 0.85490196, 0.79607843, 0.77647059, 0.86666667,\n",
              "        0.84313725, 0.83529412, 0.87058824, 0.8627451 , 0.96078431,\n",
              "        0.46666667, 0.65490196, 0.21960784],\n",
              "       [0.        , 0.        , 0.        , 0.        , 0.        ,\n",
              "        0.        , 0.        , 0.        , 0.        , 0.01568627,\n",
              "        0.        , 0.        , 0.21568627, 0.9254902 , 0.89411765,\n",
              "        0.90196078, 0.89411765, 0.94117647, 0.90980392, 0.83529412,\n",
              "        0.85490196, 0.8745098 , 0.91764706, 0.85098039, 0.85098039,\n",
              "        0.81960784, 0.36078431, 0.        ],\n",
              "       [0.        , 0.        , 0.00392157, 0.01568627, 0.02352941,\n",
              "        0.02745098, 0.00784314, 0.        , 0.        , 0.        ,\n",
              "        0.        , 0.        , 0.92941176, 0.88627451, 0.85098039,\n",
              "        0.8745098 , 0.87058824, 0.85882353, 0.87058824, 0.86666667,\n",
              "        0.84705882, 0.8745098 , 0.89803922, 0.84313725, 0.85490196,\n",
              "        1.        , 0.30196078, 0.        ],\n",
              "       [0.        , 0.01176471, 0.        , 0.        , 0.        ,\n",
              "        0.        , 0.        , 0.        , 0.        , 0.24313725,\n",
              "        0.56862745, 0.8       , 0.89411765, 0.81176471, 0.83529412,\n",
              "        0.86666667, 0.85490196, 0.81568627, 0.82745098, 0.85490196,\n",
              "        0.87843137, 0.8745098 , 0.85882353, 0.84313725, 0.87843137,\n",
              "        0.95686275, 0.62352941, 0.        ],\n",
              "       [0.        , 0.        , 0.        , 0.        , 0.07058824,\n",
              "        0.17254902, 0.32156863, 0.41960784, 0.74117647, 0.89411765,\n",
              "        0.8627451 , 0.87058824, 0.85098039, 0.88627451, 0.78431373,\n",
              "        0.80392157, 0.82745098, 0.90196078, 0.87843137, 0.91764706,\n",
              "        0.69019608, 0.7372549 , 0.98039216, 0.97254902, 0.91372549,\n",
              "        0.93333333, 0.84313725, 0.        ],\n",
              "       [0.        , 0.22352941, 0.73333333, 0.81568627, 0.87843137,\n",
              "        0.86666667, 0.87843137, 0.81568627, 0.8       , 0.83921569,\n",
              "        0.81568627, 0.81960784, 0.78431373, 0.62352941, 0.96078431,\n",
              "        0.75686275, 0.80784314, 0.8745098 , 1.        , 1.        ,\n",
              "        0.86666667, 0.91764706, 0.86666667, 0.82745098, 0.8627451 ,\n",
              "        0.90980392, 0.96470588, 0.        ],\n",
              "       [0.01176471, 0.79215686, 0.89411765, 0.87843137, 0.86666667,\n",
              "        0.82745098, 0.82745098, 0.83921569, 0.80392157, 0.80392157,\n",
              "        0.80392157, 0.8627451 , 0.94117647, 0.31372549, 0.58823529,\n",
              "        1.        , 0.89803922, 0.86666667, 0.7372549 , 0.60392157,\n",
              "        0.74901961, 0.82352941, 0.8       , 0.81960784, 0.87058824,\n",
              "        0.89411765, 0.88235294, 0.        ],\n",
              "       [0.38431373, 0.91372549, 0.77647059, 0.82352941, 0.87058824,\n",
              "        0.89803922, 0.89803922, 0.91764706, 0.97647059, 0.8627451 ,\n",
              "        0.76078431, 0.84313725, 0.85098039, 0.94509804, 0.25490196,\n",
              "        0.28627451, 0.41568627, 0.45882353, 0.65882353, 0.85882353,\n",
              "        0.86666667, 0.84313725, 0.85098039, 0.8745098 , 0.8745098 ,\n",
              "        0.87843137, 0.89803922, 0.11372549],\n",
              "       [0.29411765, 0.8       , 0.83137255, 0.8       , 0.75686275,\n",
              "        0.80392157, 0.82745098, 0.88235294, 0.84705882, 0.7254902 ,\n",
              "        0.77254902, 0.80784314, 0.77647059, 0.83529412, 0.94117647,\n",
              "        0.76470588, 0.89019608, 0.96078431, 0.9372549 , 0.8745098 ,\n",
              "        0.85490196, 0.83137255, 0.81960784, 0.87058824, 0.8627451 ,\n",
              "        0.86666667, 0.90196078, 0.2627451 ],\n",
              "       [0.18823529, 0.79607843, 0.71764706, 0.76078431, 0.83529412,\n",
              "        0.77254902, 0.7254902 , 0.74509804, 0.76078431, 0.75294118,\n",
              "        0.79215686, 0.83921569, 0.85882353, 0.86666667, 0.8627451 ,\n",
              "        0.9254902 , 0.88235294, 0.84705882, 0.78039216, 0.80784314,\n",
              "        0.72941176, 0.70980392, 0.69411765, 0.6745098 , 0.70980392,\n",
              "        0.80392157, 0.80784314, 0.45098039],\n",
              "       [0.        , 0.47843137, 0.85882353, 0.75686275, 0.70196078,\n",
              "        0.67058824, 0.71764706, 0.76862745, 0.8       , 0.82352941,\n",
              "        0.83529412, 0.81176471, 0.82745098, 0.82352941, 0.78431373,\n",
              "        0.76862745, 0.76078431, 0.74901961, 0.76470588, 0.74901961,\n",
              "        0.77647059, 0.75294118, 0.69019608, 0.61176471, 0.65490196,\n",
              "        0.69411765, 0.82352941, 0.36078431],\n",
              "       [0.        , 0.        , 0.29019608, 0.74117647, 0.83137255,\n",
              "        0.74901961, 0.68627451, 0.6745098 , 0.68627451, 0.70980392,\n",
              "        0.7254902 , 0.7372549 , 0.74117647, 0.7372549 , 0.75686275,\n",
              "        0.77647059, 0.8       , 0.81960784, 0.82352941, 0.82352941,\n",
              "        0.82745098, 0.7372549 , 0.7372549 , 0.76078431, 0.75294118,\n",
              "        0.84705882, 0.66666667, 0.        ],\n",
              "       [0.00784314, 0.        , 0.        , 0.        , 0.25882353,\n",
              "        0.78431373, 0.87058824, 0.92941176, 0.9372549 , 0.94901961,\n",
              "        0.96470588, 0.95294118, 0.95686275, 0.86666667, 0.8627451 ,\n",
              "        0.75686275, 0.74901961, 0.70196078, 0.71372549, 0.71372549,\n",
              "        0.70980392, 0.69019608, 0.65098039, 0.65882353, 0.38823529,\n",
              "        0.22745098, 0.        , 0.        ],\n",
              "       [0.        , 0.        , 0.        , 0.        , 0.        ,\n",
              "        0.        , 0.        , 0.15686275, 0.23921569, 0.17254902,\n",
              "        0.28235294, 0.16078431, 0.1372549 , 0.        , 0.        ,\n",
              "        0.        , 0.        , 0.        , 0.        , 0.        ,\n",
              "        0.        , 0.        , 0.        , 0.        , 0.        ,\n",
              "        0.        , 0.        , 0.        ],\n",
              "       [0.        , 0.        , 0.        , 0.        , 0.        ,\n",
              "        0.        , 0.        , 0.        , 0.        , 0.        ,\n",
              "        0.        , 0.        , 0.        , 0.        , 0.        ,\n",
              "        0.        , 0.        , 0.        , 0.        , 0.        ,\n",
              "        0.        , 0.        , 0.        , 0.        , 0.        ,\n",
              "        0.        , 0.        , 0.        ],\n",
              "       [0.        , 0.        , 0.        , 0.        , 0.        ,\n",
              "        0.        , 0.        , 0.        , 0.        , 0.        ,\n",
              "        0.        , 0.        , 0.        , 0.        , 0.        ,\n",
              "        0.        , 0.        , 0.        , 0.        , 0.        ,\n",
              "        0.        , 0.        , 0.        , 0.        , 0.        ,\n",
              "        0.        , 0.        , 0.        ]])"
            ]
          },
          "metadata": {},
          "execution_count": 12
        }
      ]
    },
    {
      "cell_type": "markdown",
      "source": [
        "## Model"
      ],
      "metadata": {
        "id": "jH3W0WdZ1Tdw"
      }
    },
    {
      "cell_type": "code",
      "source": [
        "model=keras.Sequential([\n",
        "    keras.layers.Flatten(input_shape=(28,28)),\n",
        "    keras.layers.Dense(392 , activation = 'sigmoid'),\n",
        "    keras.layers.Dense(196 , activation = 'sigmoid'),\n",
        "    keras.layers.Dense(98 , activation = 'sigmoid'),\n",
        "    keras.layers.Dense(49 , activation = 'sigmoid'),\n",
        "    keras.layers.Dense(24 , activation = 'sigmoid'),\n",
        "    keras.layers.Dense(10 , activation = 'sigmoid'),\n",
        "])"
      ],
      "metadata": {
        "id": "xdPuypbf1SnU"
      },
      "execution_count": 13,
      "outputs": []
    },
    {
      "cell_type": "code",
      "source": [
        "model.compile(optimizer='adam',loss='sparse_categorical_crossentropy',metrics=['accuracy'])"
      ],
      "metadata": {
        "id": "Sys8U-QS1Sj_"
      },
      "execution_count": 14,
      "outputs": []
    },
    {
      "cell_type": "code",
      "source": [
        "model.fit(train_images, train_labels, epochs=15)"
      ],
      "metadata": {
        "colab": {
          "base_uri": "https://localhost:8080/"
        },
        "id": "OX0PgoTT1SV2",
        "outputId": "4040dea8-0858-40c0-8160-e317ac5d987a"
      },
      "execution_count": 15,
      "outputs": [
        {
          "output_type": "stream",
          "name": "stdout",
          "text": [
            "Epoch 1/15\n",
            "1875/1875 [==============================] - 9s 4ms/step - loss: 1.0590 - accuracy: 0.6149\n",
            "Epoch 2/15\n",
            "1875/1875 [==============================] - 8s 4ms/step - loss: 0.5086 - accuracy: 0.8169\n",
            "Epoch 3/15\n",
            "1875/1875 [==============================] - 8s 4ms/step - loss: 0.4074 - accuracy: 0.8602\n",
            "Epoch 4/15\n",
            "1875/1875 [==============================] - 8s 4ms/step - loss: 0.3597 - accuracy: 0.8748\n",
            "Epoch 5/15\n",
            "1875/1875 [==============================] - 8s 4ms/step - loss: 0.3284 - accuracy: 0.8834\n",
            "Epoch 6/15\n",
            "1875/1875 [==============================] - 8s 4ms/step - loss: 0.3079 - accuracy: 0.8902\n",
            "Epoch 7/15\n",
            "1875/1875 [==============================] - 8s 4ms/step - loss: 0.2914 - accuracy: 0.8939\n",
            "Epoch 8/15\n",
            "1875/1875 [==============================] - 8s 4ms/step - loss: 0.2762 - accuracy: 0.8995\n",
            "Epoch 9/15\n",
            "1875/1875 [==============================] - 8s 4ms/step - loss: 0.2642 - accuracy: 0.9035\n",
            "Epoch 10/15\n",
            "1875/1875 [==============================] - 8s 4ms/step - loss: 0.2525 - accuracy: 0.9076\n",
            "Epoch 11/15\n",
            "1875/1875 [==============================] - 8s 4ms/step - loss: 0.2422 - accuracy: 0.9116\n",
            "Epoch 12/15\n",
            "1875/1875 [==============================] - 8s 4ms/step - loss: 0.2312 - accuracy: 0.9145\n",
            "Epoch 13/15\n",
            "1875/1875 [==============================] - 8s 4ms/step - loss: 0.2238 - accuracy: 0.9168\n",
            "Epoch 14/15\n",
            "1875/1875 [==============================] - 8s 4ms/step - loss: 0.2172 - accuracy: 0.9190\n",
            "Epoch 15/15\n",
            "1875/1875 [==============================] - 8s 4ms/step - loss: 0.2094 - accuracy: 0.9228\n"
          ]
        },
        {
          "output_type": "execute_result",
          "data": {
            "text/plain": [
              "<keras.callbacks.History at 0x7f6c8ea6db10>"
            ]
          },
          "metadata": {},
          "execution_count": 15
        }
      ]
    },
    {
      "cell_type": "code",
      "source": [
        "model.fit(train_images, train_labels, epochs=10)"
      ],
      "metadata": {
        "colab": {
          "base_uri": "https://localhost:8080/"
        },
        "id": "1mcjyDeh1SO8",
        "outputId": "c84353af-3a97-4063-d685-778cda714036"
      },
      "execution_count": 16,
      "outputs": [
        {
          "output_type": "stream",
          "name": "stdout",
          "text": [
            "Epoch 1/10\n",
            "1875/1875 [==============================] - 8s 4ms/step - loss: 0.2003 - accuracy: 0.9252\n",
            "Epoch 2/10\n",
            "1875/1875 [==============================] - 8s 4ms/step - loss: 0.1953 - accuracy: 0.9272\n",
            "Epoch 3/10\n",
            "1875/1875 [==============================] - 8s 4ms/step - loss: 0.1889 - accuracy: 0.9300\n",
            "Epoch 4/10\n",
            "1875/1875 [==============================] - 9s 5ms/step - loss: 0.1828 - accuracy: 0.9323\n",
            "Epoch 5/10\n",
            "1875/1875 [==============================] - 8s 4ms/step - loss: 0.1761 - accuracy: 0.9356\n",
            "Epoch 6/10\n",
            "1875/1875 [==============================] - 8s 4ms/step - loss: 0.1704 - accuracy: 0.9368\n",
            "Epoch 7/10\n",
            "1875/1875 [==============================] - 8s 4ms/step - loss: 0.1646 - accuracy: 0.9397\n",
            "Epoch 8/10\n",
            "1875/1875 [==============================] - 8s 4ms/step - loss: 0.1620 - accuracy: 0.9409\n",
            "Epoch 9/10\n",
            "1875/1875 [==============================] - 8s 4ms/step - loss: 0.1554 - accuracy: 0.9424\n",
            "Epoch 10/10\n",
            "1875/1875 [==============================] - 8s 4ms/step - loss: 0.1513 - accuracy: 0.9455\n"
          ]
        },
        {
          "output_type": "execute_result",
          "data": {
            "text/plain": [
              "<keras.callbacks.History at 0x7f6c8713e5d0>"
            ]
          },
          "metadata": {},
          "execution_count": 16
        }
      ]
    },
    {
      "cell_type": "code",
      "source": [
        "test_loss, test_acc = model.evaluate(test_images,  test_labels, verbose=1) "
      ],
      "metadata": {
        "colab": {
          "base_uri": "https://localhost:8080/"
        },
        "id": "mS0ZkOIS1SL_",
        "outputId": "3ed8a51f-23af-4b7a-84fe-21adca278822"
      },
      "execution_count": 17,
      "outputs": [
        {
          "output_type": "stream",
          "name": "stdout",
          "text": [
            "313/313 [==============================] - 1s 2ms/step - loss: 0.3557 - accuracy: 0.8908\n"
          ]
        }
      ]
    },
    {
      "cell_type": "code",
      "source": [
        "test_loss"
      ],
      "metadata": {
        "colab": {
          "base_uri": "https://localhost:8080/"
        },
        "id": "r0Hnjg7s1SJr",
        "outputId": "7c0e98c0-032c-46b9-bfb6-5aaac871cbf5"
      },
      "execution_count": 18,
      "outputs": [
        {
          "output_type": "execute_result",
          "data": {
            "text/plain": [
              "0.3556569218635559"
            ]
          },
          "metadata": {},
          "execution_count": 18
        }
      ]
    },
    {
      "cell_type": "code",
      "source": [
        "test_acc"
      ],
      "metadata": {
        "colab": {
          "base_uri": "https://localhost:8080/"
        },
        "id": "zouBGacx1SEz",
        "outputId": "97ff649e-6bc7-4583-ca8e-a19e66c89cc9"
      },
      "execution_count": 19,
      "outputs": [
        {
          "output_type": "execute_result",
          "data": {
            "text/plain": [
              "0.8907999992370605"
            ]
          },
          "metadata": {},
          "execution_count": 19
        }
      ]
    },
    {
      "cell_type": "code",
      "source": [
        "model1=keras.Sequential([\n",
        "    keras.layers.Flatten(input_shape=(28,28)),\n",
        "    keras.layers.Dense(392, activation = 'sigmoid'),\n",
        "    keras.layers.Dense(196, activation = 'sigmoid'),\n",
        "    keras.layers.Dense(98, activation = 'sigmoid'),\n",
        "    keras.layers.Dense(49, activation = 'sigmoid'),\n",
        "    keras.layers.Dense(24, activation = 'sigmoid'),\n",
        "    keras.layers.Dense(10, activation = 'sigmoid')\n",
        "])"
      ],
      "metadata": {
        "id": "AoP4F8WF1R6l"
      },
      "execution_count": 20,
      "outputs": []
    },
    {
      "cell_type": "code",
      "source": [
        "model1.compile(optimizer='adam',\n",
        "              loss='sparse_categorical_crossentropy',\n",
        "              metrics=['accuracy'])"
      ],
      "metadata": {
        "id": "pDqYNZO71R4C"
      },
      "execution_count": 21,
      "outputs": []
    },
    {
      "cell_type": "code",
      "source": [
        "model1.fit(train_images, train_labels, epochs=10)"
      ],
      "metadata": {
        "colab": {
          "base_uri": "https://localhost:8080/"
        },
        "id": "dZdKK24G1R1V",
        "outputId": "9c96bfd0-b9e2-4ccc-8e7a-cdc4cf31186c"
      },
      "execution_count": 22,
      "outputs": [
        {
          "output_type": "stream",
          "name": "stdout",
          "text": [
            "Epoch 1/10\n",
            "1875/1875 [==============================] - 9s 4ms/step - loss: 1.0374 - accuracy: 0.6198\n",
            "Epoch 2/10\n",
            "1875/1875 [==============================] - 8s 4ms/step - loss: 0.5528 - accuracy: 0.7985\n",
            "Epoch 3/10\n",
            "1875/1875 [==============================] - 9s 5ms/step - loss: 0.4113 - accuracy: 0.8596\n",
            "Epoch 4/10\n",
            "1875/1875 [==============================] - 8s 4ms/step - loss: 0.3632 - accuracy: 0.8726\n",
            "Epoch 5/10\n",
            "1875/1875 [==============================] - 8s 4ms/step - loss: 0.3354 - accuracy: 0.8820\n",
            "Epoch 6/10\n",
            "1875/1875 [==============================] - 8s 4ms/step - loss: 0.3131 - accuracy: 0.8894\n",
            "Epoch 7/10\n",
            "1875/1875 [==============================] - 8s 5ms/step - loss: 0.2985 - accuracy: 0.8927\n",
            "Epoch 8/10\n",
            "1875/1875 [==============================] - 8s 5ms/step - loss: 0.2830 - accuracy: 0.8983\n",
            "Epoch 9/10\n",
            "1875/1875 [==============================] - 8s 4ms/step - loss: 0.2699 - accuracy: 0.9030\n",
            "Epoch 10/10\n",
            "1875/1875 [==============================] - 8s 4ms/step - loss: 0.2591 - accuracy: 0.9052\n"
          ]
        },
        {
          "output_type": "execute_result",
          "data": {
            "text/plain": [
              "<keras.callbacks.History at 0x7f6c8908fe50>"
            ]
          },
          "metadata": {},
          "execution_count": 22
        }
      ]
    },
    {
      "cell_type": "code",
      "source": [
        "test_loss, test_acc = model1.evaluate(test_images,  test_labels, verbose=1)"
      ],
      "metadata": {
        "colab": {
          "base_uri": "https://localhost:8080/"
        },
        "id": "l0POALx_1Ryp",
        "outputId": "fa232080-f309-4a2c-8f00-326afbe924fd"
      },
      "execution_count": 23,
      "outputs": [
        {
          "output_type": "stream",
          "name": "stdout",
          "text": [
            "313/313 [==============================] - 1s 2ms/step - loss: 0.3768 - accuracy: 0.8721\n"
          ]
        }
      ]
    },
    {
      "cell_type": "code",
      "source": [
        "test_loss"
      ],
      "metadata": {
        "colab": {
          "base_uri": "https://localhost:8080/"
        },
        "id": "7_maFTg119_z",
        "outputId": "0e14d26f-6ac2-440c-9a15-8d97091da680"
      },
      "execution_count": 24,
      "outputs": [
        {
          "output_type": "execute_result",
          "data": {
            "text/plain": [
              "0.3767983019351959"
            ]
          },
          "metadata": {},
          "execution_count": 24
        }
      ]
    },
    {
      "cell_type": "code",
      "source": [
        "test_acc"
      ],
      "metadata": {
        "colab": {
          "base_uri": "https://localhost:8080/"
        },
        "id": "uGwpp1Nz1Rvp",
        "outputId": "3539ea35-9ac5-4ce0-d773-f77abfed1054"
      },
      "execution_count": 25,
      "outputs": [
        {
          "output_type": "execute_result",
          "data": {
            "text/plain": [
              "0.8720999956130981"
            ]
          },
          "metadata": {},
          "execution_count": 25
        }
      ]
    },
    {
      "cell_type": "code",
      "source": [
        "model2=keras.Sequential([\n",
        "    keras.layers.Flatten(input_shape=(28,28)),\n",
        "    keras.layers.Dense(392, activation = 'sigmoid'),\n",
        "    keras.layers.Dense(196, activation = 'sigmoid'),\n",
        "    keras.layers.Dense(98, activation = 'sigmoid'),\n",
        "    keras.layers.Dense(49, activation = 'sigmoid'),\n",
        "    keras.layers.Dense(24, activation = 'sigmoid'),\n",
        "    keras.layers.Dense(10, activation = 'sigmoid')\n",
        "])"
      ],
      "metadata": {
        "id": "SYdCcEiL1RqA"
      },
      "execution_count": 26,
      "outputs": []
    },
    {
      "cell_type": "code",
      "source": [
        "model2.compile(optimizer='adam',\n",
        "              loss='sparse_categorical_crossentropy',\n",
        "              metrics=['accuracy'])"
      ],
      "metadata": {
        "id": "z-Gk8hg_1Rnm"
      },
      "execution_count": 27,
      "outputs": []
    },
    {
      "cell_type": "code",
      "source": [
        "model2.fit(train_images, train_labels,epochs=5)"
      ],
      "metadata": {
        "colab": {
          "base_uri": "https://localhost:8080/"
        },
        "id": "y6ltL03t1Rki",
        "outputId": "98db0bdc-c11f-4fd4-a5b4-5d20824497ad"
      },
      "execution_count": 28,
      "outputs": [
        {
          "output_type": "stream",
          "name": "stdout",
          "text": [
            "Epoch 1/5\n",
            "1875/1875 [==============================] - 9s 4ms/step - loss: 0.9907 - accuracy: 0.6489\n",
            "Epoch 2/5\n",
            "1875/1875 [==============================] - 8s 4ms/step - loss: 0.5029 - accuracy: 0.8252\n",
            "Epoch 3/5\n",
            "1875/1875 [==============================] - 8s 4ms/step - loss: 0.4078 - accuracy: 0.8601\n",
            "Epoch 4/5\n",
            "1875/1875 [==============================] - 8s 4ms/step - loss: 0.3637 - accuracy: 0.8733\n",
            "Epoch 5/5\n",
            "1875/1875 [==============================] - 8s 4ms/step - loss: 0.3365 - accuracy: 0.8816\n"
          ]
        },
        {
          "output_type": "execute_result",
          "data": {
            "text/plain": [
              "<keras.callbacks.History at 0x7f6c8a6d5890>"
            ]
          },
          "metadata": {},
          "execution_count": 28
        }
      ]
    },
    {
      "cell_type": "code",
      "source": [
        "test_loss,test_acc=model2.evaluate(test_images, test_labels, verbose=1)"
      ],
      "metadata": {
        "colab": {
          "base_uri": "https://localhost:8080/"
        },
        "id": "VbwAufJ-1RYi",
        "outputId": "322fbd1b-73ec-46ca-deac-aa3c135a5148"
      },
      "execution_count": 29,
      "outputs": [
        {
          "output_type": "stream",
          "name": "stdout",
          "text": [
            "313/313 [==============================] - 1s 2ms/step - loss: 0.3962 - accuracy: 0.8589\n"
          ]
        }
      ]
    },
    {
      "cell_type": "code",
      "source": [
        "model3=keras.Sequential([\n",
        "    keras.layers.Flatten(input_shape=(28,28)),\n",
        "    keras.layers.Dense(392, activation = 'sigmoid'),\n",
        "    keras.layers.Dense(196, activation = 'sigmoid'),\n",
        "    keras.layers.Dense(98, activation = 'sigmoid'),\n",
        "    keras.layers.Dense(49, activation = 'sigmoid'),\n",
        "    keras.layers.Dense(24, activation = 'sigmoid'),\n",
        "    keras.layers.Dense(10, activation = 'sigmoid')\n",
        "])"
      ],
      "metadata": {
        "id": "xTKIw_3x1RVD"
      },
      "execution_count": 30,
      "outputs": []
    },
    {
      "cell_type": "code",
      "source": [
        "model3.compile(optimizer='adam', loss='sparse_categorical_crossentropy', metrics=['accuracy'])"
      ],
      "metadata": {
        "id": "nB0bXNdq2mzp"
      },
      "execution_count": 31,
      "outputs": []
    },
    {
      "cell_type": "code",
      "source": [
        "model3.fit(train_images, train_labels, epochs=30)"
      ],
      "metadata": {
        "colab": {
          "base_uri": "https://localhost:8080/"
        },
        "id": "ZaZIk9sz2mwg",
        "outputId": "21d07d14-5ecf-49ff-a930-e9dd9e4392ae"
      },
      "execution_count": 32,
      "outputs": [
        {
          "output_type": "stream",
          "name": "stdout",
          "text": [
            "Epoch 1/30\n",
            "1875/1875 [==============================] - 9s 5ms/step - loss: 1.0316 - accuracy: 0.6292\n",
            "Epoch 2/30\n",
            "1875/1875 [==============================] - 8s 4ms/step - loss: 0.5034 - accuracy: 0.8313\n",
            "Epoch 3/30\n",
            "1875/1875 [==============================] - 9s 5ms/step - loss: 0.4099 - accuracy: 0.8609\n",
            "Epoch 4/30\n",
            "1875/1875 [==============================] - 8s 4ms/step - loss: 0.3679 - accuracy: 0.8727\n",
            "Epoch 5/30\n",
            "1875/1875 [==============================] - 9s 5ms/step - loss: 0.3411 - accuracy: 0.8796\n",
            "Epoch 6/30\n",
            "1875/1875 [==============================] - 9s 5ms/step - loss: 0.3170 - accuracy: 0.8877\n",
            "Epoch 7/30\n",
            "1875/1875 [==============================] - 8s 5ms/step - loss: 0.2985 - accuracy: 0.8927\n",
            "Epoch 8/30\n",
            "1875/1875 [==============================] - 9s 5ms/step - loss: 0.2867 - accuracy: 0.8972\n",
            "Epoch 9/30\n",
            "1875/1875 [==============================] - 9s 5ms/step - loss: 0.2726 - accuracy: 0.9017\n",
            "Epoch 10/30\n",
            "1875/1875 [==============================] - 9s 5ms/step - loss: 0.2619 - accuracy: 0.9054\n",
            "Epoch 11/30\n",
            "1875/1875 [==============================] - 8s 5ms/step - loss: 0.2506 - accuracy: 0.9085\n",
            "Epoch 12/30\n",
            "1875/1875 [==============================] - 8s 4ms/step - loss: 0.2414 - accuracy: 0.9125\n",
            "Epoch 13/30\n",
            "1875/1875 [==============================] - 8s 5ms/step - loss: 0.2352 - accuracy: 0.9140\n",
            "Epoch 14/30\n",
            "1875/1875 [==============================] - 9s 5ms/step - loss: 0.2256 - accuracy: 0.9170\n",
            "Epoch 15/30\n",
            "1875/1875 [==============================] - 8s 4ms/step - loss: 0.2176 - accuracy: 0.9206\n",
            "Epoch 16/30\n",
            "1875/1875 [==============================] - 8s 4ms/step - loss: 0.2089 - accuracy: 0.9229\n",
            "Epoch 17/30\n",
            "1875/1875 [==============================] - 8s 4ms/step - loss: 0.2054 - accuracy: 0.9247\n",
            "Epoch 18/30\n",
            "1875/1875 [==============================] - 8s 4ms/step - loss: 0.1971 - accuracy: 0.9281\n",
            "Epoch 19/30\n",
            "1875/1875 [==============================] - 8s 4ms/step - loss: 0.1903 - accuracy: 0.9304\n",
            "Epoch 20/30\n",
            "1875/1875 [==============================] - 8s 4ms/step - loss: 0.1837 - accuracy: 0.9338\n",
            "Epoch 21/30\n",
            "1875/1875 [==============================] - 8s 5ms/step - loss: 0.1815 - accuracy: 0.9345\n",
            "Epoch 22/30\n",
            "1875/1875 [==============================] - 8s 4ms/step - loss: 0.1752 - accuracy: 0.9361\n",
            "Epoch 23/30\n",
            "1875/1875 [==============================] - 9s 5ms/step - loss: 0.1703 - accuracy: 0.9380\n",
            "Epoch 24/30\n",
            "1875/1875 [==============================] - 8s 5ms/step - loss: 0.1645 - accuracy: 0.9395\n",
            "Epoch 25/30\n",
            "1875/1875 [==============================] - 9s 5ms/step - loss: 0.1594 - accuracy: 0.9421\n",
            "Epoch 26/30\n",
            "1875/1875 [==============================] - 8s 4ms/step - loss: 0.1574 - accuracy: 0.9432\n",
            "Epoch 27/30\n",
            "1875/1875 [==============================] - 9s 5ms/step - loss: 0.1520 - accuracy: 0.9459\n",
            "Epoch 28/30\n",
            "1875/1875 [==============================] - 8s 4ms/step - loss: 0.1476 - accuracy: 0.9467\n",
            "Epoch 29/30\n",
            "1875/1875 [==============================] - 8s 5ms/step - loss: 0.1433 - accuracy: 0.9485\n",
            "Epoch 30/30\n",
            "1875/1875 [==============================] - 8s 4ms/step - loss: 0.1401 - accuracy: 0.9499\n"
          ]
        },
        {
          "output_type": "execute_result",
          "data": {
            "text/plain": [
              "<keras.callbacks.History at 0x7f6c8a525650>"
            ]
          },
          "metadata": {},
          "execution_count": 32
        }
      ]
    },
    {
      "cell_type": "code",
      "source": [
        "test_loss, test_acc=model3.evaluate(test_images, test_labels, verbose=1)"
      ],
      "metadata": {
        "colab": {
          "base_uri": "https://localhost:8080/"
        },
        "id": "RrrotiI32mtO",
        "outputId": "75760493-b21a-4778-f0d4-e0a1fa583245"
      },
      "execution_count": 33,
      "outputs": [
        {
          "output_type": "stream",
          "name": "stdout",
          "text": [
            "313/313 [==============================] - 1s 2ms/step - loss: 0.3602 - accuracy: 0.8918\n"
          ]
        }
      ]
    },
    {
      "cell_type": "code",
      "source": [
        "test_loss"
      ],
      "metadata": {
        "colab": {
          "base_uri": "https://localhost:8080/"
        },
        "id": "wmNIYmtY2mpW",
        "outputId": "206cce7a-a568-4770-991a-5bb3fee2ac15"
      },
      "execution_count": 34,
      "outputs": [
        {
          "output_type": "execute_result",
          "data": {
            "text/plain": [
              "0.36022642254829407"
            ]
          },
          "metadata": {},
          "execution_count": 34
        }
      ]
    },
    {
      "cell_type": "code",
      "source": [
        "test_acc"
      ],
      "metadata": {
        "colab": {
          "base_uri": "https://localhost:8080/"
        },
        "id": "N0SuJSB-2mme",
        "outputId": "92b04fd5-5e3e-4e3f-d5b1-b7552afb27c8"
      },
      "execution_count": 35,
      "outputs": [
        {
          "output_type": "execute_result",
          "data": {
            "text/plain": [
              "0.8917999863624573"
            ]
          },
          "metadata": {},
          "execution_count": 35
        }
      ]
    },
    {
      "cell_type": "code",
      "source": [
        "model4=keras.Sequential([\n",
        "    keras.layers.Flatten(input_shape=(28,28)),\n",
        "    keras.layers.Dense(392, activation = 'sigmoid'),\n",
        "    keras.layers.Dense(196, activation = 'sigmoid'),\n",
        "    keras.layers.Dense(98, activation = 'sigmoid'),\n",
        "    keras.layers.Dense(49, activation = 'sigmoid'),\n",
        "    keras.layers.Dense(24, activation = 'sigmoid'),\n",
        "    keras.layers.Dense(10, activation = 'sigmoid')\n",
        "])"
      ],
      "metadata": {
        "id": "r9ah6xzY2mjl"
      },
      "execution_count": 36,
      "outputs": []
    },
    {
      "cell_type": "code",
      "source": [
        "model4.compile(optimizer='adam',loss='sparse_categorical_crossentropy',metrics=['accuracy'])"
      ],
      "metadata": {
        "id": "SFcU_P2D2xKQ"
      },
      "execution_count": 37,
      "outputs": []
    },
    {
      "cell_type": "code",
      "source": [
        "model4.fit(train_images, train_labels, epochs=45)"
      ],
      "metadata": {
        "colab": {
          "base_uri": "https://localhost:8080/"
        },
        "id": "lTJB2ION2mge",
        "outputId": "304a2f1a-d6e4-4ffd-cf7f-63f2981919fa"
      },
      "execution_count": 38,
      "outputs": [
        {
          "output_type": "stream",
          "name": "stdout",
          "text": [
            "Epoch 1/45\n",
            "1875/1875 [==============================] - 9s 4ms/step - loss: 1.0082 - accuracy: 0.6330\n",
            "Epoch 2/45\n",
            "1875/1875 [==============================] - 8s 4ms/step - loss: 0.5154 - accuracy: 0.8178\n",
            "Epoch 3/45\n",
            "1875/1875 [==============================] - 8s 5ms/step - loss: 0.4108 - accuracy: 0.8604\n",
            "Epoch 4/45\n",
            "1875/1875 [==============================] - 8s 4ms/step - loss: 0.3655 - accuracy: 0.8723\n",
            "Epoch 5/45\n",
            "1875/1875 [==============================] - 8s 4ms/step - loss: 0.3395 - accuracy: 0.8810\n",
            "Epoch 6/45\n",
            "1875/1875 [==============================] - 8s 4ms/step - loss: 0.3198 - accuracy: 0.8872\n",
            "Epoch 7/45\n",
            "1875/1875 [==============================] - 8s 4ms/step - loss: 0.3004 - accuracy: 0.8916\n",
            "Epoch 8/45\n",
            "1875/1875 [==============================] - 8s 5ms/step - loss: 0.2878 - accuracy: 0.8964\n",
            "Epoch 9/45\n",
            "1875/1875 [==============================] - 8s 4ms/step - loss: 0.2739 - accuracy: 0.9008\n",
            "Epoch 10/45\n",
            "1875/1875 [==============================] - 8s 4ms/step - loss: 0.2640 - accuracy: 0.9034\n",
            "Epoch 11/45\n",
            "1875/1875 [==============================] - 8s 4ms/step - loss: 0.2530 - accuracy: 0.9065\n",
            "Epoch 12/45\n",
            "1875/1875 [==============================] - 8s 4ms/step - loss: 0.2424 - accuracy: 0.9102\n",
            "Epoch 13/45\n",
            "1875/1875 [==============================] - 8s 4ms/step - loss: 0.2353 - accuracy: 0.9134\n",
            "Epoch 14/45\n",
            "1875/1875 [==============================] - 8s 4ms/step - loss: 0.2253 - accuracy: 0.9159\n",
            "Epoch 15/45\n",
            "1875/1875 [==============================] - 8s 4ms/step - loss: 0.2190 - accuracy: 0.9189\n",
            "Epoch 16/45\n",
            "1875/1875 [==============================] - 8s 4ms/step - loss: 0.2111 - accuracy: 0.9206\n",
            "Epoch 17/45\n",
            "1875/1875 [==============================] - 8s 4ms/step - loss: 0.2050 - accuracy: 0.9240\n",
            "Epoch 18/45\n",
            "1875/1875 [==============================] - 8s 4ms/step - loss: 0.1989 - accuracy: 0.9262\n",
            "Epoch 19/45\n",
            "1875/1875 [==============================] - 8s 4ms/step - loss: 0.1913 - accuracy: 0.9296\n",
            "Epoch 20/45\n",
            "1875/1875 [==============================] - 10s 5ms/step - loss: 0.1868 - accuracy: 0.9304\n",
            "Epoch 21/45\n",
            "1875/1875 [==============================] - 9s 5ms/step - loss: 0.1800 - accuracy: 0.9327\n",
            "Epoch 22/45\n",
            "1875/1875 [==============================] - 9s 5ms/step - loss: 0.1753 - accuracy: 0.9355\n",
            "Epoch 23/45\n",
            "1875/1875 [==============================] - 9s 5ms/step - loss: 0.1700 - accuracy: 0.9375\n",
            "Epoch 24/45\n",
            "1875/1875 [==============================] - 9s 5ms/step - loss: 0.1645 - accuracy: 0.9388\n",
            "Epoch 25/45\n",
            "1875/1875 [==============================] - 9s 5ms/step - loss: 0.1602 - accuracy: 0.9401\n",
            "Epoch 26/45\n",
            "1875/1875 [==============================] - 9s 5ms/step - loss: 0.1573 - accuracy: 0.9417\n",
            "Epoch 27/45\n",
            "1875/1875 [==============================] - 9s 5ms/step - loss: 0.1531 - accuracy: 0.9430\n",
            "Epoch 28/45\n",
            "1875/1875 [==============================] - 9s 5ms/step - loss: 0.1485 - accuracy: 0.9457\n",
            "Epoch 29/45\n",
            "1875/1875 [==============================] - 9s 5ms/step - loss: 0.1457 - accuracy: 0.9464\n",
            "Epoch 30/45\n",
            "1875/1875 [==============================] - 9s 5ms/step - loss: 0.1403 - accuracy: 0.9483\n",
            "Epoch 31/45\n",
            "1875/1875 [==============================] - 8s 4ms/step - loss: 0.1366 - accuracy: 0.9497\n",
            "Epoch 32/45\n",
            "1875/1875 [==============================] - 9s 5ms/step - loss: 0.1341 - accuracy: 0.9507\n",
            "Epoch 33/45\n",
            "1875/1875 [==============================] - 9s 5ms/step - loss: 0.1302 - accuracy: 0.9509\n",
            "Epoch 34/45\n",
            "1875/1875 [==============================] - 9s 5ms/step - loss: 0.1256 - accuracy: 0.9548\n",
            "Epoch 35/45\n",
            "1875/1875 [==============================] - 9s 5ms/step - loss: 0.1228 - accuracy: 0.9548\n",
            "Epoch 36/45\n",
            "1875/1875 [==============================] - 9s 5ms/step - loss: 0.1203 - accuracy: 0.9559\n",
            "Epoch 37/45\n",
            "1875/1875 [==============================] - 9s 5ms/step - loss: 0.1160 - accuracy: 0.9577\n",
            "Epoch 38/45\n",
            "1875/1875 [==============================] - 9s 5ms/step - loss: 0.1130 - accuracy: 0.9590\n",
            "Epoch 39/45\n",
            "1875/1875 [==============================] - 9s 5ms/step - loss: 0.1111 - accuracy: 0.9601\n",
            "Epoch 40/45\n",
            "1875/1875 [==============================] - 9s 5ms/step - loss: 0.1097 - accuracy: 0.9602\n",
            "Epoch 41/45\n",
            "1875/1875 [==============================] - 9s 5ms/step - loss: 0.1054 - accuracy: 0.9621\n",
            "Epoch 42/45\n",
            "1875/1875 [==============================] - 9s 5ms/step - loss: 0.1042 - accuracy: 0.9619\n",
            "Epoch 43/45\n",
            "1875/1875 [==============================] - 8s 5ms/step - loss: 0.0990 - accuracy: 0.9645\n",
            "Epoch 44/45\n",
            "1875/1875 [==============================] - 8s 5ms/step - loss: 0.1009 - accuracy: 0.9631\n",
            "Epoch 45/45\n",
            "1875/1875 [==============================] - 9s 5ms/step - loss: 0.0977 - accuracy: 0.9648\n"
          ]
        },
        {
          "output_type": "execute_result",
          "data": {
            "text/plain": [
              "<keras.callbacks.History at 0x7f6c8ea26d90>"
            ]
          },
          "metadata": {},
          "execution_count": 38
        }
      ]
    },
    {
      "cell_type": "code",
      "source": [
        "test_loss, test_acc = model4.evaluate(test_images, test_labels, verbose=1)"
      ],
      "metadata": {
        "colab": {
          "base_uri": "https://localhost:8080/"
        },
        "id": "o-o5aCgp2x2u",
        "outputId": "f4d372df-60a9-47f4-dd2b-182a3ce3dcb9"
      },
      "execution_count": 39,
      "outputs": [
        {
          "output_type": "stream",
          "name": "stdout",
          "text": [
            "313/313 [==============================] - 1s 2ms/step - loss: 0.4212 - accuracy: 0.8870\n"
          ]
        }
      ]
    },
    {
      "cell_type": "markdown",
      "source": [
        "## Predictions"
      ],
      "metadata": {
        "id": "LbnvIZQK3P8T"
      }
    },
    {
      "cell_type": "code",
      "source": [
        "predictions=model4.predict(test_images)"
      ],
      "metadata": {
        "id": "8kDlj1Yp2mae"
      },
      "execution_count": 40,
      "outputs": []
    },
    {
      "cell_type": "code",
      "source": [
        "predictions[0]"
      ],
      "metadata": {
        "colab": {
          "base_uri": "https://localhost:8080/"
        },
        "id": "IkE5503K2yES",
        "outputId": "145127f6-1439-490f-e106-7af74500f5e9"
      },
      "execution_count": 41,
      "outputs": [
        {
          "output_type": "execute_result",
          "data": {
            "text/plain": [
              "array([3.1754375e-04, 3.6740303e-04, 3.1149864e-02, 3.5157302e-07,\n",
              "       1.7051786e-02, 1.3889790e-01, 4.8383474e-03, 1.2737751e-01,\n",
              "       1.7628074e-04, 9.9962717e-01], dtype=float32)"
            ]
          },
          "metadata": {},
          "execution_count": 41
        }
      ]
    },
    {
      "cell_type": "code",
      "source": [
        "np.argmax(predictions[0])"
      ],
      "metadata": {
        "colab": {
          "base_uri": "https://localhost:8080/"
        },
        "id": "7_URdfp73XGX",
        "outputId": "73d2d753-c163-4a7b-d913-e0697ca5839a"
      },
      "execution_count": 42,
      "outputs": [
        {
          "output_type": "execute_result",
          "data": {
            "text/plain": [
              "9"
            ]
          },
          "metadata": {},
          "execution_count": 42
        }
      ]
    },
    {
      "cell_type": "code",
      "source": [
        "class_names[9]"
      ],
      "metadata": {
        "colab": {
          "base_uri": "https://localhost:8080/",
          "height": 35
        },
        "id": "jKDIxPzd3XCj",
        "outputId": "560ab6ef-32ba-4d2e-dbac-cc65fccef46e"
      },
      "execution_count": 43,
      "outputs": [
        {
          "output_type": "execute_result",
          "data": {
            "application/vnd.google.colaboratory.intrinsic+json": {
              "type": "string"
            },
            "text/plain": [
              "'Ankle boot'"
            ]
          },
          "metadata": {},
          "execution_count": 43
        }
      ]
    },
    {
      "cell_type": "code",
      "source": [
        "model4.summary()"
      ],
      "metadata": {
        "colab": {
          "base_uri": "https://localhost:8080/"
        },
        "id": "6vTpC5UfRfCp",
        "outputId": "6fc8e88d-7427-4fe7-caf2-6317eba2b625"
      },
      "execution_count": 44,
      "outputs": [
        {
          "output_type": "stream",
          "name": "stdout",
          "text": [
            "Model: \"sequential_4\"\n",
            "_________________________________________________________________\n",
            " Layer (type)                Output Shape              Param #   \n",
            "=================================================================\n",
            " flatten_4 (Flatten)         (None, 784)               0         \n",
            "                                                                 \n",
            " dense_24 (Dense)            (None, 392)               307720    \n",
            "                                                                 \n",
            " dense_25 (Dense)            (None, 196)               77028     \n",
            "                                                                 \n",
            " dense_26 (Dense)            (None, 98)                19306     \n",
            "                                                                 \n",
            " dense_27 (Dense)            (None, 49)                4851      \n",
            "                                                                 \n",
            " dense_28 (Dense)            (None, 24)                1200      \n",
            "                                                                 \n",
            " dense_29 (Dense)            (None, 10)                250       \n",
            "                                                                 \n",
            "=================================================================\n",
            "Total params: 410,355\n",
            "Trainable params: 410,355\n",
            "Non-trainable params: 0\n",
            "_________________________________________________________________\n"
          ]
        }
      ]
    },
    {
      "cell_type": "code",
      "source": [
        "model5=keras.Sequential([\n",
        "                         keras.layers.Flatten(input_shape=(28,28)),\n",
        "                         keras.layers.Dense(392,activation='sigmoid'),\n",
        "                         keras.layers.Dense(10,activation='sigmoid')\n",
        "])"
      ],
      "metadata": {
        "id": "NmVqjxWZRnfJ"
      },
      "execution_count": 45,
      "outputs": []
    },
    {
      "cell_type": "code",
      "source": [
        "model5.compile(optimizer='adam', loss='sparse_categorical_crossentropy',metrics=['accuracy'])"
      ],
      "metadata": {
        "id": "pw5bern7R7d9"
      },
      "execution_count": 46,
      "outputs": []
    },
    {
      "cell_type": "code",
      "source": [
        "model5.fit(train_images, train_labels, epochs=45)"
      ],
      "metadata": {
        "colab": {
          "base_uri": "https://localhost:8080/"
        },
        "id": "oST8OBCOR7au",
        "outputId": "a1937c1b-894f-4c72-9662-4dd4579505a9"
      },
      "execution_count": 47,
      "outputs": [
        {
          "output_type": "stream",
          "name": "stdout",
          "text": [
            "Epoch 1/45\n",
            "1875/1875 [==============================] - 6s 3ms/step - loss: 0.5032 - accuracy: 0.8216\n",
            "Epoch 2/45\n",
            "1875/1875 [==============================] - 6s 3ms/step - loss: 0.3849 - accuracy: 0.8604\n",
            "Epoch 3/45\n",
            "1875/1875 [==============================] - 6s 3ms/step - loss: 0.3446 - accuracy: 0.8740\n",
            "Epoch 4/45\n",
            "1875/1875 [==============================] - 6s 3ms/step - loss: 0.3188 - accuracy: 0.8829\n",
            "Epoch 5/45\n",
            "1875/1875 [==============================] - 6s 3ms/step - loss: 0.2959 - accuracy: 0.8906\n",
            "Epoch 6/45\n",
            "1875/1875 [==============================] - 6s 3ms/step - loss: 0.2806 - accuracy: 0.8959\n",
            "Epoch 7/45\n",
            "1875/1875 [==============================] - 6s 3ms/step - loss: 0.2629 - accuracy: 0.9016\n",
            "Epoch 8/45\n",
            "1875/1875 [==============================] - 6s 3ms/step - loss: 0.2488 - accuracy: 0.9064\n",
            "Epoch 9/45\n",
            "1875/1875 [==============================] - 6s 3ms/step - loss: 0.2381 - accuracy: 0.9115\n",
            "Epoch 10/45\n",
            "1875/1875 [==============================] - 6s 3ms/step - loss: 0.2274 - accuracy: 0.9150\n",
            "Epoch 11/45\n",
            "1875/1875 [==============================] - 6s 3ms/step - loss: 0.2159 - accuracy: 0.9196\n",
            "Epoch 12/45\n",
            "1875/1875 [==============================] - 6s 3ms/step - loss: 0.2058 - accuracy: 0.9220\n",
            "Epoch 13/45\n",
            "1875/1875 [==============================] - 6s 3ms/step - loss: 0.1995 - accuracy: 0.9244\n",
            "Epoch 14/45\n",
            "1875/1875 [==============================] - 6s 3ms/step - loss: 0.1904 - accuracy: 0.9287\n",
            "Epoch 15/45\n",
            "1875/1875 [==============================] - 6s 3ms/step - loss: 0.1839 - accuracy: 0.9315\n",
            "Epoch 16/45\n",
            "1875/1875 [==============================] - 6s 3ms/step - loss: 0.1737 - accuracy: 0.9353\n",
            "Epoch 17/45\n",
            "1875/1875 [==============================] - 6s 3ms/step - loss: 0.1669 - accuracy: 0.9380\n",
            "Epoch 18/45\n",
            "1875/1875 [==============================] - 6s 3ms/step - loss: 0.1610 - accuracy: 0.9384\n",
            "Epoch 19/45\n",
            "1875/1875 [==============================] - 6s 3ms/step - loss: 0.1570 - accuracy: 0.9407\n",
            "Epoch 20/45\n",
            "1875/1875 [==============================] - 6s 3ms/step - loss: 0.1486 - accuracy: 0.9444\n",
            "Epoch 21/45\n",
            "1875/1875 [==============================] - 6s 3ms/step - loss: 0.1428 - accuracy: 0.9473\n",
            "Epoch 22/45\n",
            "1875/1875 [==============================] - 6s 3ms/step - loss: 0.1383 - accuracy: 0.9487\n",
            "Epoch 23/45\n",
            "1875/1875 [==============================] - 6s 3ms/step - loss: 0.1337 - accuracy: 0.9502\n",
            "Epoch 24/45\n",
            "1875/1875 [==============================] - 6s 3ms/step - loss: 0.1270 - accuracy: 0.9531\n",
            "Epoch 25/45\n",
            "1875/1875 [==============================] - 6s 3ms/step - loss: 0.1226 - accuracy: 0.9547\n",
            "Epoch 26/45\n",
            "1875/1875 [==============================] - 6s 3ms/step - loss: 0.1197 - accuracy: 0.9556\n",
            "Epoch 27/45\n",
            "1875/1875 [==============================] - 6s 3ms/step - loss: 0.1127 - accuracy: 0.9584\n",
            "Epoch 28/45\n",
            "1875/1875 [==============================] - 6s 3ms/step - loss: 0.1112 - accuracy: 0.9582\n",
            "Epoch 29/45\n",
            "1875/1875 [==============================] - 6s 3ms/step - loss: 0.1046 - accuracy: 0.9608\n",
            "Epoch 30/45\n",
            "1875/1875 [==============================] - 6s 3ms/step - loss: 0.1036 - accuracy: 0.9623\n",
            "Epoch 31/45\n",
            "1875/1875 [==============================] - 6s 3ms/step - loss: 0.0984 - accuracy: 0.9644\n",
            "Epoch 32/45\n",
            "1875/1875 [==============================] - 6s 3ms/step - loss: 0.0963 - accuracy: 0.9645\n",
            "Epoch 33/45\n",
            "1875/1875 [==============================] - 6s 3ms/step - loss: 0.0934 - accuracy: 0.9651\n",
            "Epoch 34/45\n",
            "1875/1875 [==============================] - 6s 3ms/step - loss: 0.0874 - accuracy: 0.9682\n",
            "Epoch 35/45\n",
            "1875/1875 [==============================] - 6s 3ms/step - loss: 0.0859 - accuracy: 0.9683\n",
            "Epoch 36/45\n",
            "1875/1875 [==============================] - 6s 3ms/step - loss: 0.0848 - accuracy: 0.9688\n",
            "Epoch 37/45\n",
            "1875/1875 [==============================] - 6s 3ms/step - loss: 0.0806 - accuracy: 0.9705\n",
            "Epoch 38/45\n",
            "1875/1875 [==============================] - 6s 3ms/step - loss: 0.0776 - accuracy: 0.9717\n",
            "Epoch 39/45\n",
            "1875/1875 [==============================] - 6s 3ms/step - loss: 0.0753 - accuracy: 0.9725\n",
            "Epoch 40/45\n",
            "1875/1875 [==============================] - 6s 3ms/step - loss: 0.0733 - accuracy: 0.9732\n",
            "Epoch 41/45\n",
            "1875/1875 [==============================] - 6s 3ms/step - loss: 0.0703 - accuracy: 0.9746\n",
            "Epoch 42/45\n",
            "1875/1875 [==============================] - 6s 3ms/step - loss: 0.0692 - accuracy: 0.9741\n",
            "Epoch 43/45\n",
            "1875/1875 [==============================] - 6s 3ms/step - loss: 0.0658 - accuracy: 0.9760\n",
            "Epoch 44/45\n",
            "1875/1875 [==============================] - 6s 3ms/step - loss: 0.0644 - accuracy: 0.9768\n",
            "Epoch 45/45\n",
            "1875/1875 [==============================] - 6s 3ms/step - loss: 0.0629 - accuracy: 0.9767\n"
          ]
        },
        {
          "output_type": "execute_result",
          "data": {
            "text/plain": [
              "<keras.callbacks.History at 0x7f6c8e37e310>"
            ]
          },
          "metadata": {},
          "execution_count": 47
        }
      ]
    },
    {
      "cell_type": "code",
      "source": [
        "test_loss, test_acc =model5.evaluate(test_images, test_labels, verbose=1)"
      ],
      "metadata": {
        "colab": {
          "base_uri": "https://localhost:8080/"
        },
        "id": "cvglBqc7R7Xc",
        "outputId": "b89523ea-5d72-4b45-80d1-64fa04a8509a"
      },
      "execution_count": 48,
      "outputs": [
        {
          "output_type": "stream",
          "name": "stdout",
          "text": [
            "313/313 [==============================] - 1s 2ms/step - loss: 0.4418 - accuracy: 0.8933\n"
          ]
        }
      ]
    },
    {
      "cell_type": "code",
      "source": [
        "model5.summary()"
      ],
      "metadata": {
        "colab": {
          "base_uri": "https://localhost:8080/"
        },
        "id": "Us_g1aRNR7UX",
        "outputId": "1b027781-f3d8-4d40-abfe-f97254b3f8ea"
      },
      "execution_count": 49,
      "outputs": [
        {
          "output_type": "stream",
          "name": "stdout",
          "text": [
            "Model: \"sequential_5\"\n",
            "_________________________________________________________________\n",
            " Layer (type)                Output Shape              Param #   \n",
            "=================================================================\n",
            " flatten_5 (Flatten)         (None, 784)               0         \n",
            "                                                                 \n",
            " dense_30 (Dense)            (None, 392)               307720    \n",
            "                                                                 \n",
            " dense_31 (Dense)            (None, 10)                3930      \n",
            "                                                                 \n",
            "=================================================================\n",
            "Total params: 311,650\n",
            "Trainable params: 311,650\n",
            "Non-trainable params: 0\n",
            "_________________________________________________________________\n"
          ]
        }
      ]
    },
    {
      "cell_type": "markdown",
      "source": [
        "## Predictions"
      ],
      "metadata": {
        "id": "MNALHCmHXBFK"
      }
    },
    {
      "cell_type": "code",
      "source": [
        "predict=model5.predict(train_images)"
      ],
      "metadata": {
        "id": "Yj2m5ex9XAGW"
      },
      "execution_count": 50,
      "outputs": []
    },
    {
      "cell_type": "code",
      "source": [
        "predict[0]"
      ],
      "metadata": {
        "colab": {
          "base_uri": "https://localhost:8080/"
        },
        "id": "D2QUkUeAXACF",
        "outputId": "f213ceb2-ac4e-4524-e8a4-17fbc8c03eef"
      },
      "execution_count": 51,
      "outputs": [
        {
          "output_type": "execute_result",
          "data": {
            "text/plain": [
              "array([1.1534388e-06, 6.9880917e-07, 3.1113187e-10, 1.0791528e-10,\n",
              "       4.6399387e-06, 9.0414862e-05, 1.9424828e-08, 8.5914779e-01,\n",
              "       2.5486454e-06, 9.9995434e-01], dtype=float32)"
            ]
          },
          "metadata": {},
          "execution_count": 51
        }
      ]
    },
    {
      "cell_type": "code",
      "source": [
        "train_labels[np.argmax(predict[0])]"
      ],
      "metadata": {
        "colab": {
          "base_uri": "https://localhost:8080/"
        },
        "id": "vCOFcLh1W_9V",
        "outputId": "e27d3495-0359-418a-e5fe-51e9a04afe63"
      },
      "execution_count": 52,
      "outputs": [
        {
          "output_type": "execute_result",
          "data": {
            "text/plain": [
              "5"
            ]
          },
          "metadata": {},
          "execution_count": 52
        }
      ]
    },
    {
      "cell_type": "code",
      "source": [
        "class_names[np.argmax(predict[0])]"
      ],
      "metadata": {
        "colab": {
          "base_uri": "https://localhost:8080/",
          "height": 35
        },
        "id": "eXtLA0buW_3l",
        "outputId": "7d8d4cf6-8b4b-4d79-e012-7adc0a2aa063"
      },
      "execution_count": 53,
      "outputs": [
        {
          "output_type": "execute_result",
          "data": {
            "application/vnd.google.colaboratory.intrinsic+json": {
              "type": "string"
            },
            "text/plain": [
              "'Ankle boot'"
            ]
          },
          "metadata": {},
          "execution_count": 53
        }
      ]
    },
    {
      "cell_type": "code",
      "source": [
        "plt.imshow(train_images[0])\n",
        "plt.show()"
      ],
      "metadata": {
        "colab": {
          "base_uri": "https://localhost:8080/",
          "height": 265
        },
        "id": "8wCwXIsHW_xr",
        "outputId": "d77d62cd-9aa5-497d-c5e4-756ff8858e60"
      },
      "execution_count": 54,
      "outputs": [
        {
          "output_type": "display_data",
          "data": {
            "image/png": "[encoded data removed]",
            "text/plain": [
              "<Figure size 432x288 with 1 Axes>"
            ]
          },
          "metadata": {
            "needs_background": "light"
          }
        }
      ]
    },
    {
      "cell_type": "markdown",
      "source": [
        "## Validation"
      ],
      "metadata": {
        "id": "AeP6hJou3aWJ"
      }
    },
    {
      "cell_type": "code",
      "source": [
        "plt.imshow(test_images[0])\n",
        "plt.title(class_names[test_labels[0]])\n",
        "plt.show()\n",
        "print(\"Guess : \",class_names[np.argmax(predictions[0])])"
      ],
      "metadata": {
        "colab": {
          "base_uri": "https://localhost:8080/",
          "height": 298
        },
        "id": "GUwCsgBB3W-0",
        "outputId": "39693906-ba4a-4209-ca24-5237ba527612"
      },
      "execution_count": 55,
      "outputs": [
        {
          "output_type": "display_data",
          "data": {
            "image/png": "[encoded data removed]",
            "text/plain": [
              "<Figure size 432x288 with 1 Axes>"
            ]
          },
          "metadata": {
            "needs_background": "light"
          }
        },
        {
          "output_type": "stream",
          "name": "stdout",
          "text": [
            "Guess :  Ankle boot\n"
          ]
        }
      ]
    },
    {
      "cell_type": "code",
      "source": [
        "plt.imshow(test_images[5])\n",
        "plt.title(class_names[test_labels[5]])\n",
        "plt.show()\n",
        "print(\"Guess : \",class_names[np.argmax(predictions[5])])"
      ],
      "metadata": {
        "colab": {
          "base_uri": "https://localhost:8080/",
          "height": 298
        },
        "id": "7E9Thn4G3W6R",
        "outputId": "dd889753-ffab-48ac-c6a1-e8b7e960c8c1"
      },
      "execution_count": 56,
      "outputs": [
        {
          "output_type": "display_data",
          "data": {
            "image/png": "[encoded data removed]",
            "text/plain": [
              "<Figure size 432x288 with 1 Axes>"
            ]
          },
          "metadata": {
            "needs_background": "light"
          }
        },
        {
          "output_type": "stream",
          "name": "stdout",
          "text": [
            "Guess :  Trouser\n"
          ]
        }
      ]
    },
    {
      "cell_type": "markdown",
      "source": [
        "## Improving the model"
      ],
      "metadata": {
        "id": "98HeizslLyA-"
      }
    },
    {
      "cell_type": "code",
      "source": [
        "from tensorflow.keras import datasets, layers, models"
      ],
      "metadata": {
        "id": "OImnyE6qQ7DQ"
      },
      "execution_count": 57,
      "outputs": []
    },
    {
      "cell_type": "code",
      "source": [
        "model6 = keras.Sequential()\n",
        "model6.add(layers.Conv2D(64, (3, 3), padding='same', activation='relu', kernel_initializer='he_uniform', input_shape=(28, 28, 1)))\n",
        "model6.add(layers.MaxPooling2D((2, 2)))\n",
        "model6.add(layers.Flatten())\n",
        "model6.add(layers.Dense(100, activation='relu', kernel_initializer='he_uniform'))\n",
        "model6.add(layers.Dense(10, activation='softmax'))"
      ],
      "metadata": {
        "id": "M6qljJn-LwTp"
      },
      "execution_count": 58,
      "outputs": []
    },
    {
      "cell_type": "code",
      "source": [
        "model6.summary()"
      ],
      "metadata": {
        "colab": {
          "base_uri": "https://localhost:8080/"
        },
        "id": "RARSfIRsLwQW",
        "outputId": "193d852c-d467-4797-b93c-91f282107048"
      },
      "execution_count": 59,
      "outputs": [
        {
          "output_type": "stream",
          "name": "stdout",
          "text": [
            "Model: \"sequential_6\"\n",
            "_________________________________________________________________\n",
            " Layer (type)                Output Shape              Param #   \n",
            "=================================================================\n",
            " conv2d (Conv2D)             (None, 28, 28, 64)        640       \n",
            "                                                                 \n",
            " max_pooling2d (MaxPooling2D  (None, 14, 14, 64)       0         \n",
            " )                                                               \n",
            "                                                                 \n",
            " flatten_6 (Flatten)         (None, 12544)             0         \n",
            "                                                                 \n",
            " dense_32 (Dense)            (None, 100)               1254500   \n",
            "                                                                 \n",
            " dense_33 (Dense)            (None, 10)                1010      \n",
            "                                                                 \n",
            "=================================================================\n",
            "Total params: 1,256,150\n",
            "Trainable params: 1,256,150\n",
            "Non-trainable params: 0\n",
            "_________________________________________________________________\n"
          ]
        }
      ]
    },
    {
      "cell_type": "code",
      "source": [
        "model6.compile(optimizer='adam',loss='sparse_categorical_crossentropy', metrics=['accuracy'])"
      ],
      "metadata": {
        "id": "6N6tqOXbLwM5"
      },
      "execution_count": 60,
      "outputs": []
    },
    {
      "cell_type": "code",
      "source": [
        "model6.fit(train_images, train_labels, epochs=45)"
      ],
      "metadata": {
        "colab": {
          "base_uri": "https://localhost:8080/"
        },
        "id": "_TeOB1nHLwKt",
        "outputId": "3d050272-5aa1-4e0d-adcd-fd700aad3df1"
      },
      "execution_count": 61,
      "outputs": [
        {
          "output_type": "stream",
          "name": "stdout",
          "text": [
            "Epoch 1/45\n",
            "1875/1875 [==============================] - 45s 24ms/step - loss: 0.3854 - accuracy: 0.8646\n",
            "Epoch 2/45\n",
            "1875/1875 [==============================] - 43s 23ms/step - loss: 0.2562 - accuracy: 0.9068\n",
            "Epoch 3/45\n",
            "1875/1875 [==============================] - 41s 22ms/step - loss: 0.2129 - accuracy: 0.9214\n",
            "Epoch 4/45\n",
            "1875/1875 [==============================] - 41s 22ms/step - loss: 0.1796 - accuracy: 0.9324\n",
            "Epoch 5/45\n",
            "1875/1875 [==============================] - 41s 22ms/step - loss: 0.1553 - accuracy: 0.9423\n",
            "Epoch 6/45\n",
            "1875/1875 [==============================] - 41s 22ms/step - loss: 0.1340 - accuracy: 0.9503\n",
            "Epoch 7/45\n",
            "1875/1875 [==============================] - 41s 22ms/step - loss: 0.1143 - accuracy: 0.9584\n",
            "Epoch 8/45\n",
            "1875/1875 [==============================] - 41s 22ms/step - loss: 0.1007 - accuracy: 0.9629\n",
            "Epoch 9/45\n",
            "1875/1875 [==============================] - 41s 22ms/step - loss: 0.0866 - accuracy: 0.9685\n",
            "Epoch 10/45\n",
            "1875/1875 [==============================] - 41s 22ms/step - loss: 0.0763 - accuracy: 0.9725\n",
            "Epoch 11/45\n",
            "1875/1875 [==============================] - 41s 22ms/step - loss: 0.0652 - accuracy: 0.9759\n",
            "Epoch 12/45\n",
            "1875/1875 [==============================] - 41s 22ms/step - loss: 0.0566 - accuracy: 0.9795\n",
            "Epoch 13/45\n",
            "1875/1875 [==============================] - 41s 22ms/step - loss: 0.0503 - accuracy: 0.9822\n",
            "Epoch 14/45\n",
            "1875/1875 [==============================] - 41s 22ms/step - loss: 0.0454 - accuracy: 0.9835\n",
            "Epoch 15/45\n",
            "1875/1875 [==============================] - 41s 22ms/step - loss: 0.0391 - accuracy: 0.9863\n",
            "Epoch 16/45\n",
            "1875/1875 [==============================] - 41s 22ms/step - loss: 0.0384 - accuracy: 0.9867\n",
            "Epoch 17/45\n",
            "1875/1875 [==============================] - 41s 22ms/step - loss: 0.0326 - accuracy: 0.9884\n",
            "Epoch 18/45\n",
            "1875/1875 [==============================] - 41s 22ms/step - loss: 0.0296 - accuracy: 0.9899\n",
            "Epoch 19/45\n",
            "1875/1875 [==============================] - 41s 22ms/step - loss: 0.0266 - accuracy: 0.9906\n",
            "Epoch 20/45\n",
            "1875/1875 [==============================] - 41s 22ms/step - loss: 0.0253 - accuracy: 0.9914\n",
            "Epoch 21/45\n",
            "1875/1875 [==============================] - 41s 22ms/step - loss: 0.0242 - accuracy: 0.9916\n",
            "Epoch 22/45\n",
            "1875/1875 [==============================] - 41s 22ms/step - loss: 0.0246 - accuracy: 0.9919\n",
            "Epoch 23/45\n",
            "1875/1875 [==============================] - 41s 22ms/step - loss: 0.0181 - accuracy: 0.9938\n",
            "Epoch 24/45\n",
            "1875/1875 [==============================] - 41s 22ms/step - loss: 0.0213 - accuracy: 0.9929\n",
            "Epoch 25/45\n",
            "1875/1875 [==============================] - 41s 22ms/step - loss: 0.0142 - accuracy: 0.9952\n",
            "Epoch 26/45\n",
            "1875/1875 [==============================] - 41s 22ms/step - loss: 0.0195 - accuracy: 0.9933\n",
            "Epoch 27/45\n",
            "1875/1875 [==============================] - 41s 22ms/step - loss: 0.0177 - accuracy: 0.9942\n",
            "Epoch 28/45\n",
            "1875/1875 [==============================] - 41s 22ms/step - loss: 0.0160 - accuracy: 0.9943\n",
            "Epoch 29/45\n",
            "1875/1875 [==============================] - 41s 22ms/step - loss: 0.0161 - accuracy: 0.9947\n",
            "Epoch 30/45\n",
            "1875/1875 [==============================] - 41s 22ms/step - loss: 0.0168 - accuracy: 0.9946\n",
            "Epoch 31/45\n",
            "1875/1875 [==============================] - 41s 22ms/step - loss: 0.0139 - accuracy: 0.9952\n",
            "Epoch 32/45\n",
            "1875/1875 [==============================] - 41s 22ms/step - loss: 0.0146 - accuracy: 0.9955\n",
            "Epoch 33/45\n",
            "1875/1875 [==============================] - 41s 22ms/step - loss: 0.0114 - accuracy: 0.9962\n",
            "Epoch 34/45\n",
            "1875/1875 [==============================] - 41s 22ms/step - loss: 0.0116 - accuracy: 0.9962\n",
            "Epoch 35/45\n",
            "1875/1875 [==============================] - 41s 22ms/step - loss: 0.0129 - accuracy: 0.9958\n",
            "Epoch 36/45\n",
            "1875/1875 [==============================] - 41s 22ms/step - loss: 0.0127 - accuracy: 0.9959\n",
            "Epoch 37/45\n",
            "1875/1875 [==============================] - 41s 22ms/step - loss: 0.0091 - accuracy: 0.9973\n",
            "Epoch 38/45\n",
            "1875/1875 [==============================] - 41s 22ms/step - loss: 0.0110 - accuracy: 0.9963\n",
            "Epoch 39/45\n",
            "1875/1875 [==============================] - 41s 22ms/step - loss: 0.0105 - accuracy: 0.9963\n",
            "Epoch 40/45\n",
            "1875/1875 [==============================] - 41s 22ms/step - loss: 0.0098 - accuracy: 0.9968\n",
            "Epoch 41/45\n",
            "1875/1875 [==============================] - 41s 22ms/step - loss: 0.0116 - accuracy: 0.9965\n",
            "Epoch 42/45\n",
            "1875/1875 [==============================] - 41s 22ms/step - loss: 0.0112 - accuracy: 0.9966\n",
            "Epoch 43/45\n",
            "1875/1875 [==============================] - 41s 22ms/step - loss: 0.0089 - accuracy: 0.9970\n",
            "Epoch 44/45\n",
            "1875/1875 [==============================] - 41s 22ms/step - loss: 0.0085 - accuracy: 0.9975\n",
            "Epoch 45/45\n",
            "1875/1875 [==============================] - 41s 22ms/step - loss: 0.0115 - accuracy: 0.9963\n"
          ]
        },
        {
          "output_type": "execute_result",
          "data": {
            "text/plain": [
              "<keras.callbacks.History at 0x7f6c8a2bf7d0>"
            ]
          },
          "metadata": {},
          "execution_count": 61
        }
      ]
    },
    {
      "cell_type": "code",
      "source": [
        "test_loss, test_acc = model6.evaluate(test_images, test_labels, verbose=1)"
      ],
      "metadata": {
        "colab": {
          "base_uri": "https://localhost:8080/"
        },
        "id": "Lr5TSWPeLwH2",
        "outputId": "7b41a787-afa2-4e2f-cd5e-f47633b7aa94"
      },
      "execution_count": 62,
      "outputs": [
        {
          "output_type": "stream",
          "name": "stdout",
          "text": [
            "313/313 [==============================] - 2s 7ms/step - loss: 0.8656 - accuracy: 0.9104\n"
          ]
        }
      ]
    },
    {
      "cell_type": "code",
      "source": [
        "test_acc"
      ],
      "metadata": {
        "colab": {
          "base_uri": "https://localhost:8080/"
        },
        "id": "xztPi4xiLwFP",
        "outputId": "58185a5a-d52b-41bd-b932-9546c63ecc08"
      },
      "execution_count": 63,
      "outputs": [
        {
          "output_type": "execute_result",
          "data": {
            "text/plain": [
              "0.9103999733924866"
            ]
          },
          "metadata": {},
          "execution_count": 63
        }
      ]
    },
    {
      "cell_type": "code",
      "source": [
        "test_loss"
      ],
      "metadata": {
        "colab": {
          "base_uri": "https://localhost:8080/"
        },
        "id": "MW57-Kx7LwCd",
        "outputId": "b9fba70e-5e6d-4467-f650-8a4a5c8f04fc"
      },
      "execution_count": 64,
      "outputs": [
        {
          "output_type": "execute_result",
          "data": {
            "text/plain": [
              "0.8656045198440552"
            ]
          },
          "metadata": {},
          "execution_count": 64
        }
      ]
    },
    {
      "cell_type": "markdown",
      "source": [
        "## Predictions\n"
      ],
      "metadata": {
        "id": "-zgfSZHYTUAH"
      }
    },
    {
      "cell_type": "code",
      "source": [
        "result=model6.predict(test_images)"
      ],
      "metadata": {
        "id": "hY_wvCc0Lv_a"
      },
      "execution_count": 65,
      "outputs": []
    },
    {
      "cell_type": "code",
      "source": [
        "result[0]"
      ],
      "metadata": {
        "colab": {
          "base_uri": "https://localhost:8080/"
        },
        "id": "IDQtaL9PLv8s",
        "outputId": "672ad1b8-9d27-471e-f94a-09dbaa217b93"
      },
      "execution_count": 66,
      "outputs": [
        {
          "output_type": "execute_result",
          "data": {
            "text/plain": [
              "array([2.1930622e-27, 7.8979691e-28, 4.6633420e-18, 9.5264149e-26,\n",
              "       6.2941616e-15, 5.7129908e-11, 1.5374906e-25, 1.5830862e-17,\n",
              "       8.4063353e-24, 1.0000000e+00], dtype=float32)"
            ]
          },
          "metadata": {},
          "execution_count": 66
        }
      ]
    },
    {
      "cell_type": "code",
      "source": [
        "np.argmax(result[0])"
      ],
      "metadata": {
        "colab": {
          "base_uri": "https://localhost:8080/"
        },
        "id": "ITLfopftLv5X",
        "outputId": "bf9093bb-7778-424b-bdf7-f0bf3eb4a756"
      },
      "execution_count": 67,
      "outputs": [
        {
          "output_type": "execute_result",
          "data": {
            "text/plain": [
              "9"
            ]
          },
          "metadata": {},
          "execution_count": 67
        }
      ]
    },
    {
      "cell_type": "code",
      "source": [
        "class_names[9]"
      ],
      "metadata": {
        "colab": {
          "base_uri": "https://localhost:8080/",
          "height": 35
        },
        "id": "K2HOFeRLLv2Q",
        "outputId": "752efea7-85a6-4b1a-a310-094346727d60"
      },
      "execution_count": 68,
      "outputs": [
        {
          "output_type": "execute_result",
          "data": {
            "application/vnd.google.colaboratory.intrinsic+json": {
              "type": "string"
            },
            "text/plain": [
              "'Ankle boot'"
            ]
          },
          "metadata": {},
          "execution_count": 68
        }
      ]
    },
    {
      "cell_type": "code",
      "source": [
        "#Validating\n",
        "test_labels[0]"
      ],
      "metadata": {
        "colab": {
          "base_uri": "https://localhost:8080/"
        },
        "id": "AqezxxXubgcX",
        "outputId": "df8501c1-082a-4faf-b74f-580ba91b0ef4"
      },
      "execution_count": 69,
      "outputs": [
        {
          "output_type": "execute_result",
          "data": {
            "text/plain": [
              "9"
            ]
          },
          "metadata": {},
          "execution_count": 69
        }
      ]
    },
    {
      "cell_type": "markdown",
      "source": [
        "## Validating\n"
      ],
      "metadata": {
        "id": "jhgYzShwbms0"
      }
    },
    {
      "cell_type": "code",
      "source": [
        "plt.imshow(test_images[2014])\n",
        "plt.title(class_names[test_labels[2014]])\n",
        "plt.show()\n",
        "print(\"Guessed : \",class_names[np.argmax(result[2014])])"
      ],
      "metadata": {
        "colab": {
          "base_uri": "https://localhost:8080/",
          "height": 298
        },
        "id": "xx44NKnWbgm0",
        "outputId": "a414abfd-074f-4905-cdea-e2d5d1c5c2d6"
      },
      "execution_count": 71,
      "outputs": [
        {
          "output_type": "display_data",
          "data": {
            "image/png": "[encoded data removed]",
            "text/plain": [
              "<Figure size 432x288 with 1 Axes>"
            ]
          },
          "metadata": {
            "needs_background": "light"
          }
        },
        {
          "output_type": "stream",
          "name": "stdout",
          "text": [
            "Guessed :  Pullover\n"
          ]
        }
      ]
    },
    {
      "cell_type": "code",
      "source": [
        ""
      ],
      "metadata": {
        "id": "_-iW5o_Ebgvh"
      },
      "execution_count": null,
      "outputs": []
    },
    {
      "cell_type": "code",
      "source": [
        ""
      ],
      "metadata": {
        "id": "aWnfA8pqbg3_"
      },
      "execution_count": null,
      "outputs": []
    }
  ]
}